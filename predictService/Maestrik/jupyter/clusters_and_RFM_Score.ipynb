{
  "nbformat": 4,
  "nbformat_minor": 0,
  "metadata": {
    "colab": {
      "name": "clusters and RFM Score.ipynb",
      "provenance": []
    },
    "kernelspec": {
      "name": "python3",
      "display_name": "Python 3"
    }
  },
  "cells": [
    {
      "cell_type": "code",
      "metadata": {
        "id": "F6uyjPpsP9Gq",
        "colab_type": "code",
        "colab": {
          "base_uri": "https://localhost:8080/",
          "height": 55
        },
        "outputId": "28c9c48b-6acb-481c-cd76-ba7170713442"
      },
      "source": [
        "from google.colab import drive\n",
        "drive.mount('/content/drive')"
      ],
      "execution_count": 68,
      "outputs": [
        {
          "output_type": "stream",
          "text": [
            "Drive already mounted at /content/drive; to attempt to forcibly remount, call drive.mount(\"/content/drive\", force_remount=True).\n"
          ],
          "name": "stdout"
        }
      ]
    },
    {
      "cell_type": "code",
      "metadata": {
        "id": "WjUbJ_wYQ7zN",
        "colab_type": "code",
        "colab": {
          "base_uri": "https://localhost:8080/",
          "height": 89
        },
        "outputId": "f82644af-e563-41f2-d233-859dc0f22a10"
      },
      "source": [
        "import pandas as pd\n",
        "\n",
        "df = pd.read_csv('/content/drive/My Drive/Online Retail.csv')\n",
        "print(df.columns)\n",
        "print('done read dataset')"
      ],
      "execution_count": 69,
      "outputs": [
        {
          "output_type": "stream",
          "text": [
            "Index(['InvoiceNo', 'StockCode', 'Description', 'Quantity', 'InvoiceDate',\n",
            "       'UnitPrice', 'CustomerID', 'Country'],\n",
            "      dtype='object')\n",
            "done read dataset\n"
          ],
          "name": "stdout"
        }
      ]
    },
    {
      "cell_type": "code",
      "metadata": {
        "id": "qCWX4ALKRzcp",
        "colab_type": "code",
        "colab": {
          "base_uri": "https://localhost:8080/",
          "height": 35
        },
        "outputId": "fd63aee6-127f-4802-8e2d-405833dafaf7"
      },
      "source": [
        "products = df[['StockCode','Description']].copy()\n",
        "products.head()\n",
        "products = products.groupby(products['StockCode']).filter(lambda x : x.notnull().values.all())\n",
        "print('done creating product dictionary')"
      ],
      "execution_count": 70,
      "outputs": [
        {
          "output_type": "stream",
          "text": [
            "done creating product dictionary\n"
          ],
          "name": "stdout"
        }
      ]
    },
    {
      "cell_type": "code",
      "metadata": {
        "id": "liZyAgbGUR7H",
        "colab_type": "code",
        "colab": {
          "base_uri": "https://localhost:8080/",
          "height": 199
        },
        "outputId": "6bff4b22-8f09-4910-a72d-ac8d0aedcdf8"
      },
      "source": [
        "import datetime as dt\n",
        "\n",
        "NOW = dt.datetime(2011,12,10)\n",
        "users = df[['InvoiceNo','CustomerID','InvoiceDate','Quantity','UnitPrice','StockCode']][df['Quantity']>0][df['UnitPrice'] > 0].copy()\n",
        "users['total_buyed'] = users['Quantity'] * users['UnitPrice']\n",
        "#users['total_buyed'].plot()\n",
        "users['InvoiceDate'] = pd.to_datetime(users['InvoiceDate'])\n",
        "usersRfm = users.groupby('CustomerID').agg({'InvoiceDate': lambda x: (NOW - x.max()).days, 'InvoiceNo': lambda x: len(x), 'total_buyed': lambda x: x.sum()}).rename({'InvoiceNo':'times_buy', 'InvoiceDate':'last_buy'}, axis='columns')\n",
        "users=usersRfm\n",
        "users=users.reset_index()\n",
        "usersRfm = usersRfm.reset_index()[['last_buy','times_buy','total_buyed']]\n",
        "print(usersRfm.head())\n",
        "print('createRfm')"
      ],
      "execution_count": 71,
      "outputs": [
        {
          "output_type": "stream",
          "text": [
            "/usr/local/lib/python3.6/dist-packages/ipykernel_launcher.py:4: UserWarning: Boolean Series key will be reindexed to match DataFrame index.\n",
            "  after removing the cwd from sys.path.\n"
          ],
          "name": "stderr"
        },
        {
          "output_type": "stream",
          "text": [
            "   last_buy  times_buy  total_buyed\n",
            "0       325          1     77183.60\n",
            "1         2        182      4310.00\n",
            "2        75         31      1797.24\n",
            "3        18         73      1757.55\n",
            "4       310         17       334.40\n",
            "createRfm\n"
          ],
          "name": "stdout"
        }
      ]
    },
    {
      "cell_type": "code",
      "metadata": {
        "id": "byRu_Tzifn1d",
        "colab_type": "code",
        "colab": {
          "base_uri": "https://localhost:8080/",
          "height": 638
        },
        "outputId": "eec1d213-cda8-481b-e0f1-f7d312a51c0f"
      },
      "source": [
        "from sklearn.cluster import KMeans\n",
        "\n",
        "def calculate_WSS(points, kmax):\n",
        "  sse = []\n",
        "  for k in range(1, kmax+1):\n",
        "    kmeans = KMeans(n_clusters = k).fit(points)\n",
        "    centroids = kmeans.cluster_centers_\n",
        "    pred_clusters = kmeans.predict(points)\n",
        "    curr_sse = 0\n",
        "    # calculate square of Euclidean distance of each point from its cluster center and add to current WSS\n",
        "    for i in range(len(points)):\n",
        "\n",
        "      curr_center = centroids[pred_clusters[i]]\n",
        "      curr_sse += (points.iloc[i, 0] - curr_center[0]) ** 2 + (points.iloc[i, 1] - curr_center[1]) ** 2 + (points.iloc[i, 2] - curr_center[2]) ** 2\n",
        "      \n",
        "    sse.append(curr_sse)\n",
        "  return sse\n",
        "\n",
        "from sklearn.metrics import silhouette_score\n",
        "\n",
        "def calculate_siluete(x, kmax):\n",
        "  sil = []\n",
        "\n",
        "  for k in range(2, kmax+1):\n",
        "    kmeans = KMeans(n_clusters = k).fit(x)\n",
        "    labels = kmeans.labels_\n",
        "    sil.append(silhouette_score(x, labels, metric = 'euclidean'))\n",
        "  return sil\n",
        "\n",
        "def train_kmeans(points, k):\n",
        "  kmeans = KMeans(n_clusters = k).fit(points)\n",
        "  return kmeans\n",
        "pd.DataFrame(calculate_WSS(usersRfm,10)).plot()\n",
        "print(calculate_siluete(usersRfm,10))\n",
        "pd.DataFrame(calculate_siluete(usersRfm,10)).plot()\n",
        "\n",
        "kmeans = train_kmeans(usersRfm,4)\n",
        "print(kmeans)\n",
        "print('done training kmeans')"
      ],
      "execution_count": 72,
      "outputs": [
        {
          "output_type": "stream",
          "text": [
            "[0.9844418340416883, 0.9610532770588399, 0.9541412626775648, 0.8362752944524187, 0.773446606692752, 0.7300943867948729, 0.7304603232592314, 0.669467990503748, 0.6812440680944135]\n",
            "KMeans(algorithm='auto', copy_x=True, init='k-means++', max_iter=300,\n",
            "       n_clusters=4, n_init=10, n_jobs=None, precompute_distances='auto',\n",
            "       random_state=None, tol=0.0001, verbose=0)\n",
            "done training kmeans\n"
          ],
          "name": "stdout"
        },
        {
          "output_type": "display_data",
          "data": {
            "image/png": "[encoded data removed]",
            "text/plain": [
              "<Figure size 432x288 with 1 Axes>"
            ]
          },
          "metadata": {
            "tags": []
          }
        },
        {
          "output_type": "display_data",
          "data": {
            "image/png": "[encoded data removed]",
            "text/plain": [
              "<Figure size 432x288 with 1 Axes>"
            ]
          },
          "metadata": {
            "tags": []
          }
        }
      ]
    },
    {
      "cell_type": "code",
      "metadata": {
        "id": "AVQGNScxyoBn",
        "colab_type": "code",
        "colab": {
          "base_uri": "https://localhost:8080/",
          "height": 989
        },
        "outputId": "b6bc772e-db07-446e-aa9b-4c613726ddcd"
      },
      "source": [
        "#users=users.reset_index()\n",
        "kmeans.predict(users[['last_buy','times_buy','total_buyed']])\n",
        "print(users.head())\n",
        "users['cluster'] = kmeans.predict(users[['last_buy','times_buy','total_buyed']])\n",
        "print(users.head())\n",
        "print(users['cluster'].value_counts())\n",
        "print(users[users['cluster'] == 0].describe())\n",
        "print(users[users['cluster'] == 1].describe())\n",
        "print(users[users['cluster'] == 2].describe())\n",
        "print(users[users['cluster'] == 3].describe())\n",
        "#print(users[users['cluster'] == 5].describe())\n",
        "print('done clustering existing users!')"
      ],
      "execution_count": 73,
      "outputs": [
        {
          "output_type": "stream",
          "text": [
            "   CustomerID  last_buy  times_buy  total_buyed\n",
            "0     12346.0       325          1     77183.60\n",
            "1     12347.0         2        182      4310.00\n",
            "2     12348.0        75         31      1797.24\n",
            "3     12349.0        18         73      1757.55\n",
            "4     12350.0       310         17       334.40\n",
            "   CustomerID  last_buy  times_buy  total_buyed  cluster\n",
            "0     12346.0       325          1     77183.60        1\n",
            "1     12347.0         2        182      4310.00        0\n",
            "2     12348.0        75         31      1797.24        0\n",
            "3     12349.0        18         73      1757.55        0\n",
            "4     12350.0       310         17       334.40        0\n",
            "0    4300\n",
            "1      31\n",
            "3       5\n",
            "2       2\n",
            "Name: cluster, dtype: int64\n",
            "         CustomerID     last_buy    times_buy   total_buyed  cluster\n",
            "count   4300.000000  4300.000000  4300.000000   4300.000000   4300.0\n",
            "mean   15301.314884    92.646512    82.897674   1438.190382      0.0\n",
            "std     1721.694713   100.056203   127.773733   2227.422111      0.0\n",
            "min    12347.000000     0.000000     1.000000      3.750000      0.0\n",
            "25%    13814.750000    18.000000    17.000000    306.370000      0.0\n",
            "50%    15300.500000    51.000000    41.000000    664.400000      0.0\n",
            "75%    16780.250000   143.000000    98.000000   1620.030000      0.0\n",
            "max    18287.000000   373.000000  2700.000000  21429.390000      0.0\n",
            "         CustomerID    last_buy    times_buy   total_buyed  cluster\n",
            "count     31.000000   31.000000    31.000000     31.000000     31.0\n",
            "mean   15141.612903   30.032258   993.161290  46393.013871      1.0\n",
            "std     1727.789178   75.148956  1769.240818  17870.591823      0.0\n",
            "min    12346.000000    0.000000     1.000000  25977.160000      1.0\n",
            "25%    13735.500000    1.000000   134.500000  31870.250000      1.0\n",
            "50%    15098.000000    4.000000   277.000000  40991.570000      1.0\n",
            "75%    16377.500000   11.000000   776.000000  58668.155000      1.0\n",
            "max    17949.000000  325.000000  7847.000000  91062.380000      1.0\n",
            "         CustomerID  last_buy    times_buy    total_buyed  cluster\n",
            "count      2.000000  2.000000     2.000000       2.000000      2.0\n",
            "mean   16374.000000  0.500000  1253.500000  269931.660000      2.0\n",
            "std     2443.761036  0.707107  1163.190655   14530.139257      0.0\n",
            "min    14646.000000  0.000000   431.000000  259657.300000      2.0\n",
            "25%    15510.000000  0.250000   842.250000  264794.480000      2.0\n",
            "50%    16374.000000  0.500000  1253.500000  269931.660000      2.0\n",
            "75%    17238.000000  0.750000  1664.750000  275068.840000      2.0\n",
            "max    18102.000000  1.000000  2076.000000  280206.020000      2.0\n",
            "         CustomerID   last_buy    times_buy    total_buyed  cluster\n",
            "count      5.000000   5.000000     5.000000       5.000000      5.0\n",
            "mean   15075.600000   8.400000  1625.800000  149828.502000      3.0\n",
            "std     1966.425768   9.607289  2322.330231   31848.698231      0.0\n",
            "min    12415.000000   0.000000     3.000000  117379.630000      3.0\n",
            "25%    14156.000000   1.000000   337.000000  124914.530000      3.0\n",
            "50%    14911.000000   8.000000   714.000000  143825.060000      3.0\n",
            "75%    16446.000000   9.000000  1400.000000  168472.500000      3.0\n",
            "max    17450.000000  24.000000  5675.000000  194550.790000      3.0\n",
            "done clustering existing users!\n"
          ],
          "name": "stdout"
        }
      ]
    },
    {
      "cell_type": "code",
      "metadata": {
        "id": "FJT8QMcz7OCj",
        "colab_type": "code",
        "colab": {
          "base_uri": "https://localhost:8080/",
          "height": 971
        },
        "outputId": "6fdb5a63-982e-4a33-e6a4-91c4d8269de2"
      },
      "source": [
        "from sklearn.mixture import GaussianMixture\n",
        "\n",
        "def train_gaus(points, k):\n",
        "  kmeans = GaussianMixture(n_components=k).fit(points)\n",
        "  return kmeans\n",
        "\n",
        "\n",
        "def calculate_siluete_gaus(x, kmax):\n",
        "  sil = []\n",
        "\n",
        "  for k in range(2, kmax+1):\n",
        "    kmeans = GaussianMixture(n_components = k).fit(x)\n",
        "    labels = kmeans.predict(x)\n",
        "    sil.append(silhouette_score(x, labels, metric = 'euclidean'))\n",
        "  return sil\n",
        "\n",
        "usersSub = users[users['cluster']==0][['last_buy','times_buy','total_buyed','CustomerID']]\n",
        "pd.DataFrame(calculate_siluete_gaus(usersSub,10)).plot()\n",
        "\n",
        "kmeansSub = train_gaus(usersSub[['last_buy','times_buy','total_buyed']],3)\n",
        "\n",
        "usersSub['clusterSub'] = kmeansSub.predict(usersSub[['last_buy','times_buy','total_buyed']])\n",
        "print(usersSub.head())\n",
        "print(usersSub['clusterSub'].value_counts())\n",
        "print(usersSub[usersSub['clusterSub'] == 0].describe())\n",
        "print(usersSub[usersSub['clusterSub'] == 1].describe())\n",
        "print(usersSub[usersSub['clusterSub'] == 2].describe())\n",
        "#print(usersSub[usersSub['clusterSub'] == 3].describe())\n",
        "print('done clustering existing users!')\n",
        "\n",
        "users = users.merge(usersSub[['CustomerID','clusterSub']],on='CustomerID',how='left')\n",
        "print('done training gaus')"
      ],
      "execution_count": 74,
      "outputs": [
        {
          "output_type": "stream",
          "text": [
            "   last_buy  times_buy  total_buyed  CustomerID  clusterSub\n",
            "1         2        182      4310.00     12347.0           1\n",
            "2        75         31      1797.24     12348.0           2\n",
            "3        18         73      1757.55     12349.0           2\n",
            "4       310         17       334.40     12350.0           0\n",
            "5        36         85      2506.04     12352.0           2\n",
            "0    2170\n",
            "2    1603\n",
            "1     527\n",
            "Name: clusterSub, dtype: int64\n",
            "          last_buy    times_buy  total_buyed    CustomerID  clusterSub\n",
            "count  2170.000000  2170.000000  2170.000000   2170.000000      2170.0\n",
            "mean    135.599078    21.412442   373.982347  15318.764516         0.0\n",
            "std     111.120018    14.341933   231.735350   1720.437926         0.0\n",
            "min       0.000000     1.000000     3.750000  12350.000000         0.0\n",
            "25%      38.000000    10.000000   181.022500  13826.500000         0.0\n",
            "50%      95.000000    19.000000   325.425000  15318.500000         0.0\n",
            "75%     232.000000    31.000000   533.210000  16777.000000         0.0\n",
            "max     373.000000    70.000000  1141.240000  18282.000000         0.0\n",
            "         last_buy    times_buy   total_buyed    CustomerID  clusterSub\n",
            "count  527.000000   527.000000    527.000000    527.000000       527.0\n",
            "mean    15.901328   315.641366   5602.562277  15219.580645         1.0\n",
            "std     17.689274   234.803231   3942.215468   1761.813469         0.0\n",
            "min      0.000000     1.000000    615.390000  12347.000000         1.0\n",
            "25%      3.000000   199.000000   3076.400000  13725.500000         1.0\n",
            "50%     10.000000   269.000000   4552.140000  15195.000000         1.0\n",
            "75%     22.000000   382.000000   6808.700000  16745.500000         1.0\n",
            "max    151.000000  2700.000000  21429.390000  18283.000000         1.0\n",
            "          last_buy    times_buy  total_buyed    CustomerID  clusterSub\n",
            "count  1603.000000  1603.000000  1603.000000   1603.000000      1603.0\n",
            "mean     59.731753    89.614473  1509.748366  15304.563943         2.0\n",
            "std      67.261367    49.446978   945.775004   1710.345893         0.0\n",
            "min       0.000000     1.000000   120.030000  12348.000000         2.0\n",
            "25%      16.000000    57.000000   865.985000  13817.500000         2.0\n",
            "50%      35.000000    82.000000  1315.830000  15289.000000         2.0\n",
            "75%      78.000000   118.000000  2005.305000  16802.500000         2.0\n",
            "max     373.000000   327.000000  9864.260000  18287.000000         2.0\n",
            "done clustering existing users!\n",
            "done training gaus\n"
          ],
          "name": "stdout"
        },
        {
          "output_type": "display_data",
          "data": {
            "image/png": "[encoded data removed]",
            "text/plain": [
              "<Figure size 432x288 with 1 Axes>"
            ]
          },
          "metadata": {
            "tags": []
          }
        }
      ]
    },
    {
      "cell_type": "code",
      "metadata": {
        "id": "hE6-oG3E0xnE",
        "colab_type": "code",
        "colab": {
          "base_uri": "https://localhost:8080/",
          "height": 215
        },
        "outputId": "0f602a1a-e7b7-4b15-f95f-76e030e6ec03"
      },
      "source": [
        "\n",
        "print(users.describe())\n",
        "users[users['cluster'] == 1]\n",
        "\n",
        "import pickle\n",
        "\n",
        "pickle.dump(kmeans,open('kmeans.pk','wb'))\n",
        "pickle.dump(kmeansSub,open('kmeansSub.pk','wb'))"
      ],
      "execution_count": 75,
      "outputs": [
        {
          "output_type": "stream",
          "text": [
            "         CustomerID     last_buy  ...      cluster   clusterSub\n",
            "count   4338.000000  4338.000000  ...  4338.000000  4300.000000\n",
            "mean   15300.408022    92.059474  ...     0.011526     0.868140\n",
            "std     1721.808492   100.012264  ...     0.138692     0.927499\n",
            "min    12346.000000     0.000000  ...     0.000000     0.000000\n",
            "25%    13813.250000    17.000000  ...     0.000000     0.000000\n",
            "50%    15299.500000    50.000000  ...     0.000000     0.000000\n",
            "75%    16778.750000   141.750000  ...     0.000000     2.000000\n",
            "max    18287.000000   373.000000  ...     3.000000     2.000000\n",
            "\n",
            "[8 rows x 6 columns]\n"
          ],
          "name": "stdout"
        }
      ]
    },
    {
      "cell_type": "code",
      "metadata": {
        "id": "GaTsun_r-EtI",
        "colab_type": "code",
        "colab": {}
      },
      "source": [
        "#users[['last_buy','times_buy','total_buyed']]\n",
        "users.rename(columns={'last_buy': 'recency', \n",
        "                         'times_buy': 'frequency', \n",
        "                         'total_buyed': 'monetary_value'}, inplace=True)\n",
        "userRFMTable = users\n",
        "pickle.dump(userRFMTable,open('userRfmTable.pk','wb'))\n",
        "quantiles = userRFMTable.quantile(q=[0.25,0.5,0.75])\n",
        "quantiles.to_dict()\n",
        "\n",
        "segmented_rfm = userRFMTable"
      ],
      "execution_count": 0,
      "outputs": []
    },
    {
      "cell_type": "code",
      "metadata": {
        "id": "r8QxxpzI_VHc",
        "colab_type": "code",
        "colab": {
          "base_uri": "https://localhost:8080/",
          "height": 204
        },
        "outputId": "51e990a6-7d24-4578-b13b-599cfa72b21e"
      },
      "source": [
        "def RScore(x,p,d):\n",
        "    if x <= d[p][0.25]:\n",
        "        return 1\n",
        "    elif x <= d[p][0.50]:\n",
        "        return 2\n",
        "    elif x <= d[p][0.75]: \n",
        "        return 3\n",
        "    else:\n",
        "        return 4\n",
        "    \n",
        "def FMScore(x,p,d):\n",
        "    if x <= d[p][0.25]:\n",
        "        return 4\n",
        "    elif x <= d[p][0.50]:\n",
        "        return 3\n",
        "    elif x <= d[p][0.75]: \n",
        "        return 2\n",
        "    else:\n",
        "        return 1\n",
        "      \n",
        "segmented_rfm['r_quartile'] = segmented_rfm['recency'].apply(RScore, args=('recency',quantiles,))\n",
        "segmented_rfm['f_quartile'] = segmented_rfm['frequency'].apply(FMScore, args=('frequency',quantiles,))\n",
        "segmented_rfm['m_quartile'] = segmented_rfm['monetary_value'].apply(FMScore, args=('monetary_value',quantiles,))\n",
        "segmented_rfm.head()\n",
        "\n",
        "segmented_rfm['RFMScore'] = segmented_rfm.r_quartile.map(str) + segmented_rfm.f_quartile.map(str)  + segmented_rfm.m_quartile.map(str)\n",
        "segmented_rfm.head()"
      ],
      "execution_count": 89,
      "outputs": [
        {
          "output_type": "execute_result",
          "data": {
            "text/html": [
              "<div>\n",
              "<style scoped>\n",
              "    .dataframe tbody tr th:only-of-type {\n",
              "        vertical-align: middle;\n",
              "    }\n",
              "\n",
              "    .dataframe tbody tr th {\n",
              "        vertical-align: top;\n",
              "    }\n",
              "\n",
              "    .dataframe thead th {\n",
              "        text-align: right;\n",
              "    }\n",
              "</style>\n",
              "<table border=\"1\" class=\"dataframe\">\n",
              "  <thead>\n",
              "    <tr style=\"text-align: right;\">\n",
              "      <th></th>\n",
              "      <th>recency</th>\n",
              "      <th>frequency</th>\n",
              "      <th>monetary_value</th>\n",
              "      <th>r_quartile</th>\n",
              "      <th>f_quartile</th>\n",
              "      <th>m_quartile</th>\n",
              "      <th>RFMScore</th>\n",
              "    </tr>\n",
              "  </thead>\n",
              "  <tbody>\n",
              "    <tr>\n",
              "      <th>0</th>\n",
              "      <td>325</td>\n",
              "      <td>1</td>\n",
              "      <td>77183.60</td>\n",
              "      <td>4</td>\n",
              "      <td>4</td>\n",
              "      <td>1</td>\n",
              "      <td>441</td>\n",
              "    </tr>\n",
              "    <tr>\n",
              "      <th>1</th>\n",
              "      <td>2</td>\n",
              "      <td>182</td>\n",
              "      <td>4310.00</td>\n",
              "      <td>1</td>\n",
              "      <td>1</td>\n",
              "      <td>1</td>\n",
              "      <td>111</td>\n",
              "    </tr>\n",
              "    <tr>\n",
              "      <th>2</th>\n",
              "      <td>75</td>\n",
              "      <td>31</td>\n",
              "      <td>1797.24</td>\n",
              "      <td>3</td>\n",
              "      <td>3</td>\n",
              "      <td>1</td>\n",
              "      <td>331</td>\n",
              "    </tr>\n",
              "    <tr>\n",
              "      <th>3</th>\n",
              "      <td>18</td>\n",
              "      <td>73</td>\n",
              "      <td>1757.55</td>\n",
              "      <td>2</td>\n",
              "      <td>2</td>\n",
              "      <td>1</td>\n",
              "      <td>221</td>\n",
              "    </tr>\n",
              "    <tr>\n",
              "      <th>4</th>\n",
              "      <td>310</td>\n",
              "      <td>17</td>\n",
              "      <td>334.40</td>\n",
              "      <td>4</td>\n",
              "      <td>4</td>\n",
              "      <td>3</td>\n",
              "      <td>443</td>\n",
              "    </tr>\n",
              "  </tbody>\n",
              "</table>\n",
              "</div>"
            ],
            "text/plain": [
              "   recency  frequency  monetary_value  ...  f_quartile  m_quartile  RFMScore\n",
              "0      325          1        77183.60  ...           4           1       441\n",
              "1        2        182         4310.00  ...           1           1       111\n",
              "2       75         31         1797.24  ...           3           1       331\n",
              "3       18         73         1757.55  ...           2           1       221\n",
              "4      310         17          334.40  ...           4           3       443\n",
              "\n",
              "[5 rows x 7 columns]"
            ]
          },
          "metadata": {
            "tags": []
          },
          "execution_count": 89
        }
      ]
    }
  ]
}